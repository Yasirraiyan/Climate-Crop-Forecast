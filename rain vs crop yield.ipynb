plt.scatter(rainfall, crop_yield, color='blue', label='Actual Data (Rainfall)') 
plt.plot(rainfall, [predict_yield_rain(r) for r in rainfall], 
color='green', 
label='Regression Line (Rainfall)') 
plt.xlabel('Rainfall (mm)') 
plt.ylabel('Crop Yield (tons/hectare)') 
plt.title('Rainfall vs Crop Yield') 
plt.legend()
plt.show()                                                                                                   
