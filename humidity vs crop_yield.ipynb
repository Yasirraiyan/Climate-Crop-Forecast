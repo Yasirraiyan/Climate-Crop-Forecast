plt.scatter(humidity, crop_yield, color='blue', label='Actual Data (Humidity)') 
plt.plot(humidity, [predict_yield_hum(h) for h in humidity],
color='green', 
label='Regression Line (Humidity)') 
plt.xlabel('Humidity (%)') 
plt.ylabel('Crop Yield (tons/hectare)')
plt.title('Humidity vs Crop Yield') 
plt.legend()
plt.show()
