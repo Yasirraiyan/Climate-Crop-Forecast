import numpy as np
import matplotlib.pyplot as plt
from scipy import stats

# উদাহরণ ডাটা: তাপমাত্রা (ডিগ্রী সেলসিয়াস), বৃষ্টিপাত (মিমি), আদ্রতা (%)
temperature = [20, 22, 23, 21, 25, 27, 30, 32, 29, 24]
rainfall = [200, 220, 210, 190, 250, 300, 310, 280, 270, 230]
humidity = [60, 65, 70, 55, 75, 80, 85, 90, 78, 68]

# ফসল উৎপাদনের ডাটা (টন/হেক্টর)
crop_yield = [2.5, 2.7, 2.8, 2.6, 3.0, 3.5, 3.6, 3.3, 3.1, 2.9]

# তাপমাত্রা বনাম ফসল উৎপাদন লিনিয়ার রিগ্রেশন প্রয়োগ করা
slope_temp, intercept_temp, r_value_temp, p_value_temp, std_err_temp = stats.linregress(temperature, crop_yield)

# বৃষ্টিপাত বনাম ফসল উৎপাদন লিনিয়ার রিগ্রেশন প্রয়োগ করা
slope_rain, intercept_rain, r_value_rain, p_value_rain, std_err_rain = stats.linregress(rainfall, crop_yield)

# আদ্রতা বনাম ফসল উৎপাদন লিনিয়ার রিগ্রেশন প্রয়োগ করা
slope_hum, intercept_hum, r_value_hum, p_value_hum, std_err_hum = stats.linregress(humidity, crop_yield)

# মডেল ডিফাইন করা
def predict_yield_temp(temp):
    return slope_temp * temp + intercept_temp

def predict_yield_rain(rain):
    return slope_rain * rain + intercept_rain

def predict_yield_hum(hum):
    return slope_hum * hum + intercept_hum

# একটি নির্দিষ্ট তাপমাত্রা, বৃষ্টিপাত, এবং আদ্রতার জন্য ফসল উৎপাদন মান গণনা করা
temp_pred = predict_yield_temp(28)
rain_pred = predict_yield_rain(250)
hum_pred = predict_yield_hum(80)
print(f"Prediction for temperature 28°C: {temp_pred} tons/hectare")
print(f"Prediction for rainfall 250mm: {rain_pred} tons/hectare")
print(f"Prediction for humidity 80%: {hum_pred} tons/hectare")

# তাপমাত্রা বনাম ফসল উৎপাদন ডাটা পয়েন্ট এবং রিগ্রেশন লাইন প্লট করা
plt.scatter(temperature, crop_yield, color='blue', label='Actual Data (Temperature)')
plt.plot(temperature, [predict_yield_temp(t) for t in temperature], color='green', label='Regression Line (Temperature)')
plt.xlabel('Temperature (°C)')
plt.ylabel('Crop Yield (tons/hectare)')
plt.title('Temperature vs Crop Yield')
plt.legend()
plt.show()

# বৃষ্টিপাত বনাম ফসল উৎপাদন ডাটা পয়েন্ট এবং রিগ্রেশন লাইন প্লট করা
plt.scatter(rainfall, crop_yield, color='blue', label='Actual Data (Rainfall)')
plt.plot(rainfall, [predict_yield_rain(r) for r in rainfall], color='green', label='Regression Line (Rainfall)')
plt.xlabel('Rainfall (mm)')
plt.ylabel('Crop Yield (tons/hectare)')
plt.title('Rainfall vs Crop Yield')
plt.legend()
plt.show()

# আদ্রতা বনাম ফসল উৎপাদন ডাটা পয়েন্ট এবং রিগ্রেশন লাইন প্লট করা
plt.scatter(humidity, crop_yield, color='blue', label='Actual Data (Humidity)')
plt.plot(humidity, [predict_yield_hum(h) for h in humidity], color='green', label='Regression Line (Humidity)')
plt.xlabel('Humidity (%)')
plt.ylabel('Crop Yield (tons/hectare)')
plt.title('Humidity vs Crop Yield')
plt.legend()
plt.show()
