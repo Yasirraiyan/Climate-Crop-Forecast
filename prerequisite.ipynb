temperature = [20, 22, 23, 21, 25, 27, 30, 32, 29, 24]
rainfall = [200, 220, 210, 190, 250, 300, 310, 280, 270, 230]
humidity = [60, 65, 70, 55, 75, 80, 85, 90, 78, 68] 
# ফসল উৎপাদনের ডাটা (টন/হেক্টর) 
crop_yield = [2.5, 2.7, 2.8, 2.6, 3.0, 3.5, 3.6, 3.3, 3.1, 2.9] 
# তাপমাত্রা বনাম ফসল উৎপাদন লিনিয়ার রিগ্রেশন প্রয়োগ করা
slope_temp, intercept_temp, r_value_temp, p_value_temp, std_err_temp = stats.linregress(temperature, crop_yield) 
# বৃষ্টিপাত বনাম ফসল উৎপাদন লিনিয়ার রিগ্রেশন প্রয়োগ করা
slope_rain, intercept_rain, r_value_rain, p_value_rain, std_err_rain = stats.linregress(rainfall, crop_yield) 
# আদ্রতা বনাম ফসল উৎপাদন লিনিয়ার রিগ্রেশন প্রয়োগ করা
slope_hum, intercept_hum, r_value_hum, p_value_hum, std_err_hum = stats.linregress(humidity, crop_yield)
